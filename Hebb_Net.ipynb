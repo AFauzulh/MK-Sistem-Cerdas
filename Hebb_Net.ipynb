{
  "nbformat": 4,
  "nbformat_minor": 0,
  "metadata": {
    "colab": {
      "provenance": [],
      "collapsed_sections": [
        "MAmSZtkGJhuu",
        "ypI1Kuvyaygz",
        "4ZH3Qs4JejQJ",
        "0mYsNwLLenAm"
      ],
      "authorship_tag": "ABX9TyODR9YR9QAzPe2D6sh9jR17",
      "include_colab_link": true
    },
    "kernelspec": {
      "name": "python3",
      "display_name": "Python 3"
    },
    "language_info": {
      "name": "python"
    }
  },
  "cells": [
    {
      "cell_type": "markdown",
      "metadata": {
        "id": "view-in-github",
        "colab_type": "text"
      },
      "source": [
        "<a href=\"https://colab.research.google.com/github/AFauzulh/MK-Sistem-Cerdas/blob/main/Hebb_Net.ipynb\" target=\"_parent\"><img src=\"https://colab.research.google.com/assets/colab-badge.svg\" alt=\"Open In Colab\"/></a>"
      ]
    },
    {
      "cell_type": "markdown",
      "source": [
        "<h1>Tugas Sistem Cerdas Hebb Net</h1>\n",
        "\n",
        "Nama  : Alfirsa Damasyifa Fauzulhaq\n",
        "\n",
        "NIM   : 226150100111019\n",
        "\n",
        "Kelas : Sistem Cerdas - B"
      ],
      "metadata": {
        "id": "KHVSKieJFiN-"
      }
    },
    {
      "cell_type": "markdown",
      "source": [
        "# Versi PPT (Biner Tanpa Bias)"
      ],
      "metadata": {
        "id": "MAmSZtkGJhuu"
      }
    },
    {
      "cell_type": "code",
      "execution_count": 1,
      "metadata": {
        "id": "kcVK1SdUw1yk"
      },
      "outputs": [],
      "source": [
        "import numpy as np\n",
        "import matplotlib.pyplot as plt"
      ]
    },
    {
      "cell_type": "code",
      "source": [
        "def activation_function(y_in):\n",
        "  return 1 if y_in > 0 else 0\n",
        "\n",
        "def accuracy_score(preds, real):\n",
        "  correct = 0\n",
        "  for i, _ in enumerate(real):\n",
        "    if preds[i] == real[i]:\n",
        "      correct+=1\n",
        "  \n",
        "  return correct/len(real)"
      ],
      "metadata": {
        "id": "pdg-jg1HxYR9"
      },
      "execution_count": 2,
      "outputs": []
    },
    {
      "cell_type": "code",
      "source": [
        "class Hebb_Net():\n",
        "  def __init__(self, n_features=4, n_class=2):\n",
        "    # inisialisasi bobot awal\n",
        "    self.n_features = n_features\n",
        "    self.n_class = n_class\n",
        "    self.weight = np.zeros((n_features, n_class))\n",
        "\n",
        "  def train(self, X, Y, verbose=False):\n",
        "    for x, y in zip(X, Y):\n",
        "      for i, _ in enumerate(self.weight):\n",
        "        for j, _ in enumerate(self.weight[i]):\n",
        "          # urutan update bobot (w) => [11, 21], [12, 22], [13, 23], [14, 24]\n",
        "          self.weight[i][j] = self.weight[i][j] + (x[i]*y[j])\n",
        "\n",
        "      if verbose:\n",
        "        print(f\"Bobot-bobot jaringan:\\n{self.weight}\")\n",
        "\n",
        "  def predict(self, x):\n",
        "    pred = []\n",
        "\n",
        "    for i in range(self.n_class):\n",
        "      y_pred = np.dot(x, self.weight[:, i])\n",
        "      y_pred = activation_function(y_pred)\n",
        "      pred.append(y_pred)\n",
        "\n",
        "    return pred"
      ],
      "metadata": {
        "id": "QxYZ4Hsqxjt8"
      },
      "execution_count": 3,
      "outputs": []
    },
    {
      "cell_type": "code",
      "source": [
        "X = [[1,0,0,0], [1,1,0,0], [0,0,0,1], [0,0,1,1]]\n",
        "Y = [[1,0],[1,0],[0,1],[0,1]]\n",
        "\n",
        "hebb = Hebb_Net()\n",
        "hebb.train(X, Y, verbose=True)"
      ],
      "metadata": {
        "id": "WXLsuo7qzyyk",
        "colab": {
          "base_uri": "https://localhost:8080/"
        },
        "outputId": "a1e8a73b-4e83-4556-b13c-3b96269097a7"
      },
      "execution_count": 4,
      "outputs": [
        {
          "output_type": "stream",
          "name": "stdout",
          "text": [
            "Bobot-bobot jaringan:\n",
            "[[1. 0.]\n",
            " [0. 0.]\n",
            " [0. 0.]\n",
            " [0. 0.]]\n",
            "Bobot-bobot jaringan:\n",
            "[[2. 0.]\n",
            " [1. 0.]\n",
            " [0. 0.]\n",
            " [0. 0.]]\n",
            "Bobot-bobot jaringan:\n",
            "[[2. 0.]\n",
            " [1. 0.]\n",
            " [0. 0.]\n",
            " [0. 1.]]\n",
            "Bobot-bobot jaringan:\n",
            "[[2. 0.]\n",
            " [1. 0.]\n",
            " [0. 1.]\n",
            " [0. 2.]]\n"
          ]
        }
      ]
    },
    {
      "cell_type": "code",
      "source": [
        "preds = []\n",
        "for x in X:\n",
        "  preds.append(hebb.predict(x))\n",
        "\n",
        "print(preds)"
      ],
      "metadata": {
        "colab": {
          "base_uri": "https://localhost:8080/"
        },
        "id": "GPS88sBb8Ajr",
        "outputId": "b91400db-bb25-4071-ec00-1d546e1052a6"
      },
      "execution_count": 5,
      "outputs": [
        {
          "output_type": "stream",
          "name": "stdout",
          "text": [
            "[[1, 0], [1, 0], [0, 1], [0, 1]]\n"
          ]
        }
      ]
    },
    {
      "cell_type": "code",
      "source": [
        "# testing\n",
        "x = [0,0,1,1]\n",
        "print(hebb.predict(x))"
      ],
      "metadata": {
        "colab": {
          "base_uri": "https://localhost:8080/"
        },
        "id": "Wbe4v9Lx9dXf",
        "outputId": "27302e86-b7c7-4686-a45f-6f732ce6414f"
      },
      "execution_count": 6,
      "outputs": [
        {
          "output_type": "stream",
          "name": "stdout",
          "text": [
            "[0, 1]\n"
          ]
        }
      ]
    },
    {
      "cell_type": "code",
      "source": [
        "x = [0,1,0,0]\n",
        "print(hebb.predict(x))"
      ],
      "metadata": {
        "colab": {
          "base_uri": "https://localhost:8080/"
        },
        "id": "Jk2Zv1Ev-52T",
        "outputId": "2d33eddb-c20f-4932-f9c8-2f891b4ecdbb"
      },
      "execution_count": 7,
      "outputs": [
        {
          "output_type": "stream",
          "name": "stdout",
          "text": [
            "[1, 0]\n"
          ]
        }
      ]
    },
    {
      "cell_type": "code",
      "source": [
        "x = [0,1,1,0]\n",
        "print(hebb.predict(x))"
      ],
      "metadata": {
        "colab": {
          "base_uri": "https://localhost:8080/"
        },
        "id": "tmfQqjJe_MzB",
        "outputId": "6b71ea9b-15c9-4144-ba5d-51f50b8d68d1"
      },
      "execution_count": 8,
      "outputs": [
        {
          "output_type": "stream",
          "name": "stdout",
          "text": [
            "[1, 1]\n"
          ]
        }
      ]
    },
    {
      "cell_type": "markdown",
      "source": [
        "# Studi Kasus Gerbang Logika (Bipolar Dengan Bias)"
      ],
      "metadata": {
        "id": "8AGn0nbGJk3g"
      }
    },
    {
      "cell_type": "code",
      "source": [
        "import numpy as np\n",
        "import matplotlib.pyplot as plt\n",
        "import seaborn as sns\n",
        "sns.set()"
      ],
      "metadata": {
        "id": "cxMsR3pcEtAD"
      },
      "execution_count": 9,
      "outputs": []
    },
    {
      "cell_type": "code",
      "source": [
        "def accuracy_score(preds, real):\n",
        "  correct = 0\n",
        "  for i, _ in enumerate(real):\n",
        "    if preds[i] == real[i]:\n",
        "      correct+=1\n",
        "  \n",
        "  return correct/len(real)\n",
        "\n",
        "def bipolar_activation_function(y_in):\n",
        "  return 1 if y_in >= 0 else -1 "
      ],
      "metadata": {
        "id": "3YfwxCvsEn2y"
      },
      "execution_count": 10,
      "outputs": []
    },
    {
      "cell_type": "code",
      "source": [
        "class Hebb_Net():\n",
        "  def __init__(self, n_features=4, n_class=2):\n",
        "    # inisialisasi bobot awal\n",
        "    self.n_features = n_features\n",
        "    self.n_class = n_class\n",
        "    self.weight = np.zeros((n_features, n_class))\n",
        "    self.bias = 1\n",
        "    self.wb = 0\n",
        "\n",
        "  def train(self, X, Y, verbose=False):\n",
        "    for x, y in zip(X, Y):\n",
        "      for i, _ in enumerate(self.weight):\n",
        "        for j, _ in enumerate(self.weight[i]):\n",
        "          # urutan update bobot (w) => [11, 21], [12, 22], [13, 23], [14, 24]\n",
        "          self.weight[i][j] = self.weight[i][j] + (x[i]*y[j])\n",
        "\n",
        "      # update bobot bias\n",
        "      for target in y:\n",
        "        self.wb = self.wb + (self.bias*target)\n",
        "\n",
        "      if verbose:\n",
        "        print(f\"Bobot-bobot jaringan:\\n{self.weight}\")\n",
        "        print(f\"Bobot Bias:{self.wb}\")\n",
        "\n",
        "  def predict(self, x):\n",
        "    pred = []\n",
        "\n",
        "    for i in range(self.n_class):\n",
        "      y_pred = np.dot(x, self.weight[:, i]) + (self.bias*self.wb)\n",
        "      y_pred = bipolar_activation_function(y_pred)\n",
        "      pred.append(y_pred)\n",
        "\n",
        "    return pred"
      ],
      "metadata": {
        "id": "PBZ3c-8yjkGq"
      },
      "execution_count": 11,
      "outputs": []
    },
    {
      "cell_type": "markdown",
      "source": [
        "## AND"
      ],
      "metadata": {
        "id": "ypI1Kuvyaygz"
      }
    },
    {
      "cell_type": "code",
      "source": [
        "X = [(1, 1), (1, -1), (-1, 1), (-1, -1)]\n",
        "Y = [[1], [-1], [-1], [-1]]\n",
        "hebb = Hebb_Net(n_features=2, n_class=1)\n",
        "hebb.train(X, Y, verbose=False)\n",
        "\n",
        "preds = []\n",
        "for x in X:\n",
        "  preds.append(hebb.predict(x))\n",
        "\n",
        "accuracy = accuracy_score(preds, Y)\n",
        "print(accuracy)"
      ],
      "metadata": {
        "colab": {
          "base_uri": "https://localhost:8080/"
        },
        "id": "ugVBTC1-ahJz",
        "outputId": "0807e301-3277-4f2c-8c0d-cd08ed72f7cb"
      },
      "execution_count": 12,
      "outputs": [
        {
          "output_type": "stream",
          "name": "stdout",
          "text": [
            "1.0\n"
          ]
        }
      ]
    },
    {
      "cell_type": "markdown",
      "source": [
        "## OR"
      ],
      "metadata": {
        "id": "4ZH3Qs4JejQJ"
      }
    },
    {
      "cell_type": "code",
      "source": [
        "X = [(1, 1), (1, -1), (-1, 1), (-1, -1)]\n",
        "Y = [[1], [1], [1], [-1]]\n",
        "hebb = Hebb_Net(n_features=2, n_class=1)\n",
        "hebb.train(X, Y, verbose=False)\n",
        "\n",
        "preds = []\n",
        "for x in X:\n",
        "  preds.append(hebb.predict(x))\n",
        "\n",
        "accuracy = accuracy_score(preds, Y)\n",
        "print(accuracy)"
      ],
      "metadata": {
        "colab": {
          "base_uri": "https://localhost:8080/"
        },
        "outputId": "7b2cb8a3-573a-4a18-fa1f-710d0fd1ff80",
        "id": "sgGrostRejQJ"
      },
      "execution_count": 13,
      "outputs": [
        {
          "output_type": "stream",
          "name": "stdout",
          "text": [
            "1.0\n"
          ]
        }
      ]
    },
    {
      "cell_type": "markdown",
      "source": [
        "## AND NOT"
      ],
      "metadata": {
        "id": "0mYsNwLLenAm"
      }
    },
    {
      "cell_type": "code",
      "source": [
        "X = [(1, 1), (1, -1), (-1, 1), (-1, -1)]\n",
        "Y = [[-1], [1], [-1], [-1]]\n",
        "hebb = Hebb_Net(n_features=2, n_class=1)\n",
        "hebb.train(X, Y, verbose=False)\n",
        "\n",
        "preds = []\n",
        "for x in X:\n",
        "  preds.append(hebb.predict(x))\n",
        "\n",
        "accuracy = accuracy_score(preds, Y)\n",
        "print(accuracy)"
      ],
      "metadata": {
        "colab": {
          "base_uri": "https://localhost:8080/"
        },
        "outputId": "c8d1568f-7cac-44b1-bc2d-2f15a40b59b9",
        "id": "IXuVCpDhenAn"
      },
      "execution_count": 14,
      "outputs": [
        {
          "output_type": "stream",
          "name": "stdout",
          "text": [
            "1.0\n"
          ]
        }
      ]
    },
    {
      "cell_type": "code",
      "source": [],
      "metadata": {
        "id": "p1ngTYyQ1vqz"
      },
      "execution_count": 14,
      "outputs": []
    }
  ]
}