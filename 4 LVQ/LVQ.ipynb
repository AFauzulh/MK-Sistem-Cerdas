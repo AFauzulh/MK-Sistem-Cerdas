{
  "nbformat": 4,
  "nbformat_minor": 0,
  "metadata": {
    "colab": {
      "provenance": [],
      "collapsed_sections": []
    },
    "kernelspec": {
      "name": "python3",
      "display_name": "Python 3"
    },
    "language_info": {
      "name": "python"
    }
  },
  "cells": [
    {
      "cell_type": "markdown",
      "source": [
        "<h2>Tugas Sistem Cerdas LVQ</h2>\n",
        "\n",
        "\n",
        "\n",
        "> Nama : Alfirsa Damasyifa Fauzulhaq\n",
        "\n",
        "> NIM  : 226150100111019\n",
        "\n",
        "> Kelas : Sistem Cerdas - B\n",
        "\n"
      ],
      "metadata": {
        "id": "zGHxGcsnDAda"
      }
    },
    {
      "cell_type": "code",
      "execution_count": null,
      "metadata": {
        "id": "MUYhkf5IMVj3"
      },
      "outputs": [],
      "source": [
        "import numpy as np\n",
        "import pandas as pd\n",
        "import math"
      ]
    },
    {
      "cell_type": "code",
      "source": [
        "class LVQ():\n",
        "  def __init__(self):\n",
        "    self.weight = None\n",
        " \n",
        "  def fit(self, X, y, epochs, learning_rate, lr_decay):\n",
        "    # mengambil jumlah fitur dari shape X\n",
        "    n_features = X.shape[-1]\n",
        "\n",
        "    # mengambil jumlah kelas menggunakan count unique y\n",
        "    n_classes = len(np.unique(y))\n",
        "\n",
        "    new_X, new_y = self.init_weight(X, y, n_classes)\n",
        "    \n",
        "    # looping sejumlah epoch\n",
        "    for i in range(epochs):\n",
        "      print(f\"Epoch\\t\\t: {i+1}\")\n",
        "      print(f\"Learning Rate\\t: {learning_rate}\")\n",
        "      # looping semua data\n",
        "      for x, target in zip(new_X, new_y):\n",
        "        distances = []\n",
        "        features = x\n",
        "        label = target\n",
        "\n",
        "        # hitung jarak thd tiap kelas\n",
        "        for w in self.weight:\n",
        "          distances.append(self.euclidean_distance(features, w))\n",
        "\n",
        "        predicted_class = np.argmin(distances)\n",
        "\n",
        "        # update bobot\n",
        "        # jika kelas sesuai label\n",
        "        if (predicted_class + 1) == label:\n",
        "          for i in range(n_features):\n",
        "            wij_new = self.weight[predicted_class][i] + (learning_rate * (features[i]-self.weight[predicted_class][i]))\n",
        "            self.weight[predicted_class][i] = wij_new\n",
        "            \n",
        "        # jika kelas tidak sesuai label\n",
        "        else:\n",
        "          for i in range(n_features):\n",
        "            wij_new = self.weight[predicted_class][i] - (learning_rate * (features[i]-self.weight[predicted_class][i]))\n",
        "            self.weight[predicted_class][i] = wij_new\n",
        "\n",
        "      # pengurangan learning rate\n",
        "      learning_rate = learning_rate - (learning_rate * lr_decay)\n",
        "\n",
        "  def predict(self, x):\n",
        "    distances = []\n",
        "    for w in self.weight:\n",
        "      distances.append(self.euclidean_distance(x, w))\n",
        "\n",
        "    pred = np.argmin(distances)+1\n",
        "    return pred\n",
        "\n",
        "  def euclidean_distance(self, x1, x2):\n",
        "    # x1 => fitur\n",
        "    # x2 => bobot\n",
        "    distance = 0\n",
        "    for x, y in zip(x1, x2):\n",
        "      distance += (x-y)**2\n",
        "    return math.sqrt(distance)\n",
        "\n",
        "  def init_weight(self, X, y, n_classes):\n",
        "    self.weight = X[:n_classes]\n",
        "    X = X[n_classes:]\n",
        "    y = y[n_classes:]\n",
        "    return X, y"
      ],
      "metadata": {
        "id": "pe4UpWHaN-X4"
      },
      "execution_count": null,
      "outputs": []
    },
    {
      "cell_type": "code",
      "source": [
        "df = pd.read_excel('dataset.xlsx')\n",
        "dataset = df.to_numpy(dtype=np.float32)\n",
        "\n",
        "X = dataset[:, :-1]\n",
        "y = dataset[:,-1]\n",
        "\n",
        "lvq = LVQ()\n",
        "lvq.fit(X=X, y=y, epochs=10, learning_rate=.05, lr_decay=.1)"
      ],
      "metadata": {
        "colab": {
          "base_uri": "https://localhost:8080/"
        },
        "id": "BNaE4RO_AB4d",
        "outputId": "9d15f139-37d7-41ed-fcc8-0042487f9e21"
      },
      "execution_count": null,
      "outputs": [
        {
          "output_type": "stream",
          "name": "stdout",
          "text": [
            "Epoch\t\t: 1\n",
            "Learning Rate\t: 0.05\n",
            "Epoch\t\t: 2\n",
            "Learning Rate\t: 0.045\n",
            "Epoch\t\t: 3\n",
            "Learning Rate\t: 0.0405\n",
            "Epoch\t\t: 4\n",
            "Learning Rate\t: 0.03645\n",
            "Epoch\t\t: 5\n",
            "Learning Rate\t: 0.032805\n",
            "Epoch\t\t: 6\n",
            "Learning Rate\t: 0.029524500000000002\n",
            "Epoch\t\t: 7\n",
            "Learning Rate\t: 0.02657205\n",
            "Epoch\t\t: 8\n",
            "Learning Rate\t: 0.023914845\n",
            "Epoch\t\t: 9\n",
            "Learning Rate\t: 0.0215233605\n",
            "Epoch\t\t: 10\n",
            "Learning Rate\t: 0.019371024450000003\n"
          ]
        }
      ]
    },
    {
      "cell_type": "code",
      "source": [
        "print(lvq.weight[0].tolist())\n",
        "print(lvq.weight[1].tolist())"
      ],
      "metadata": {
        "colab": {
          "base_uri": "https://localhost:8080/"
        },
        "id": "5KTb6OFpkthe",
        "outputId": "d98ba990-d3a4-4f79-a1b4-d7ad59028193"
      },
      "execution_count": null,
      "outputs": [
        {
          "output_type": "stream",
          "name": "stdout",
          "text": [
            "[0.37265998125076294, 0.21612568199634552, 0.6346999406814575, -0.21637924015522003, 0.7980682253837585, 0.4254175126552582]\n",
            "[0.0, 0.7969023585319519, 0.7900204658508301, 1.0, 0.5869227051734924, 0.21711614727973938]\n"
          ]
        }
      ]
    },
    {
      "cell_type": "markdown",
      "source": [
        "## Testing"
      ],
      "metadata": {
        "id": "Rg2Svi7VDS6h"
      }
    },
    {
      "cell_type": "code",
      "source": [
        "x1 = np.array([0,1,0,1,1,0], dtype=np.float64)\n",
        "x2 = np.array([1,1,0,1,1,1], dtype=np.float64)\n",
        "\n",
        "print(f\"Hasil Prediksi Kelas: {lvq.predict(x1)}\")\n",
        "print(f\"Hasil Prediksi Kelas: {lvq.predict(x2)}\")"
      ],
      "metadata": {
        "colab": {
          "base_uri": "https://localhost:8080/"
        },
        "id": "PzNjfPfN_h2V",
        "outputId": "f097a0cb-a0e3-4dce-9700-213711f8ba37"
      },
      "execution_count": null,
      "outputs": [
        {
          "output_type": "stream",
          "name": "stdout",
          "text": [
            "Hasil Prediksi Kelas: 2\n",
            "Hasil Prediksi Kelas: 2\n"
          ]
        }
      ]
    },
    {
      "cell_type": "code",
      "source": [],
      "metadata": {
        "id": "nr27hzXFEsm7"
      },
      "execution_count": null,
      "outputs": []
    }
  ]
}